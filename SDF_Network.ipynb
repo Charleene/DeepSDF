{
 "cells": [
  {
   "cell_type": "markdown",
   "id": "d48f5ce8",
   "metadata": {},
   "source": [
    "# Mise en place du réseau de neurone permettant la prédiction de SDF"
   ]
  },
  {
   "cell_type": "code",
   "execution_count": 1,
   "id": "a84edfcf",
   "metadata": {},
   "outputs": [],
   "source": [
    "import os\n",
    "import time\n",
    "import torch\n",
    "import torch.nn as nn\n",
    "from torchvision import models\n",
    "from torch.utils.data import Dataset, TensorDataset, DataLoader, random_split\n",
    "from torch.autograd import grad\n",
    "from torch.nn.functional import l1_loss\n",
    "from matplotlib import pyplot as plt\n",
    "import numpy as np\n",
    "from PIL import Image\n",
    "from numpy import asarray\n",
    "import tqdm\n",
    "import math\n",
    "import kaolin\n",
    "from kaolin.ops.conversions import marching_tetrahedra\n",
    "from kaolin.metrics.pointcloud import chamfer_distance\n",
    "from kaolin.io.usd import export_mesh"
   ]
  },
  {
   "cell_type": "markdown",
   "id": "50e4d244",
   "metadata": {},
   "source": [
    "## 1. Mise en place de l'encodeur, basé sur le réseau ResNet50\n",
    "\n",
    "Le réseau est enrichi d'une couche en entrée permettant de lire un vecteur contenant les informations de 6 images au lieu d'une seule, ainsi que d'une couche de sortie permettant de sortir un vecteur latent de 256 caractéristiques."
   ]
  },
  {
   "cell_type": "code",
   "execution_count": 2,
   "id": "22066220",
   "metadata": {},
   "outputs": [
    {
     "name": "stdout",
     "output_type": "stream",
     "text": [
      "Device :  cuda\n"
     ]
    }
   ],
   "source": [
    "# Define encoder\n",
    "os.environ['CUDA_LAUNCH_BLOCKING'] = \"1\"\n",
    "device = torch.device('cuda' if torch.cuda.is_available() else 'cpu')\n",
    "print(\"Device : \", device)"
   ]
  },
  {
   "cell_type": "markdown",
   "id": "569c8d70",
   "metadata": {},
   "source": [
    "## 2. Mise en place du décodeur\n",
    "\n",
    "Le décodeur est une suite séquentielle de couches de neurones intercalées avec des couches d'activations qui permettent de prédire une valeur de SDF à partir du vecteur de taille 259 donné en entrée, correspondant au vecteur latent donné par l'encodeur concaténé à la position du point dont on veut prédire le SDF."
   ]
  },
  {
   "cell_type": "markdown",
   "id": "23b245c7",
   "metadata": {},
   "source": [
    "##### (Lancer seulement si besoin d'entraînement : )"
   ]
  },
  {
   "cell_type": "code",
   "execution_count": 3,
   "id": "a713b097",
   "metadata": {},
   "outputs": [],
   "source": [
    "class Net(nn.Module):\n",
    "    def __init__(self, input_size, hidden_size, output_size, num_layers):\n",
    "        super().__init__()\n",
    "        self.input_size = input_size\n",
    "        self.hidden_size = hidden_size\n",
    "        self.output_size = output_size\n",
    "        self.num_layers = num_layers\n",
    "        \n",
    "        #define encoder\n",
    "        model_conv = models.resnet50(pretrained=True)\n",
    "        model_conv.to(device)\n",
    "        \n",
    "        for param in model_conv.parameters():\n",
    "            param.requires_grad = False\n",
    "            param.to(device)\n",
    "            \n",
    "        num_ftrs = model_conv.fc.in_features\n",
    "        model_conv.fc = nn.Linear(num_ftrs, 256)    #Add a new last fully connected layer that will output a 256-features vector\n",
    "        model_conv.to(device)\n",
    "        \n",
    "        encoder = nn.Sequential(\n",
    "        nn.Conv2d(6,3,7,2,3,bias=False),   #(in_channels=6,out_channels=3,kernel_size=7,stride=2,padding=3,bias=False)\n",
    "        model_conv)\n",
    "        \n",
    "        self.add_module(\"encoder\",encoder)\n",
    "\n",
    "        self.layers = [\n",
    "            nn.Linear(self.input_size, self.hidden_size),\n",
    "            nn.ReLU(),\n",
    "        ]\n",
    "        for i in range(self.num_layers - 1):\n",
    "            self.layers.append(nn.Linear(self.hidden_size, self.hidden_size))\n",
    "            self.layers.append(nn.ReLU())\n",
    "        \n",
    "        #Add the last layer that will output from 512 to 1 feature\n",
    "        self.layers.append(nn.Linear(self.hidden_size, self.output_size))\n",
    "\n",
    "        #Compile all the layers into a sequential model\n",
    "        self.layers = nn.Sequential(*self.layers)\n",
    "\n",
    "    #Computation performed at every call\n",
    "    def forward(self, x, pt_list):\n",
    "        vect_img = self.encoder(x)\n",
    "        vect_img = vect_img.squeeze()\n",
    "        #creer vecteur les vecteurs latents pour l liste de point\n",
    "        list_vect_lat = []\n",
    "        for p in pt_list:\n",
    "            #print(\"forward info\")\n",
    "            vect_lat = torch.cat((vect_img,p),0)\n",
    "            #print(vect_lat.shape)\n",
    "            list_vect_lat.append(vect_lat)\n",
    "        list_vect_lat = torch.stack(list_vect_lat).float()\n",
    "        #list_vect_lat = list_vect_lat.to(float).\n",
    "        #print(vect_img.type)\n",
    "        #print(p.type)\n",
    "        #print(vect_lat.type)\n",
    "        #print(list_vect_lat.type)\n",
    "        sdf_xyz_pts = torch.tanh(self.layers(list_vect_lat))\n",
    "        return sdf_xyz_pts"
   ]
  },
  {
   "cell_type": "code",
   "execution_count": 4,
   "id": "a4c948b7",
   "metadata": {},
   "outputs": [
    {
     "data": {
      "text/plain": [
       "Net(\n",
       "  (encoder): Sequential(\n",
       "    (0): Conv2d(6, 3, kernel_size=(7, 7), stride=(2, 2), padding=(3, 3), bias=False)\n",
       "    (1): ResNet(\n",
       "      (conv1): Conv2d(3, 64, kernel_size=(7, 7), stride=(2, 2), padding=(3, 3), bias=False)\n",
       "      (bn1): BatchNorm2d(64, eps=1e-05, momentum=0.1, affine=True, track_running_stats=True)\n",
       "      (relu): ReLU(inplace=True)\n",
       "      (maxpool): MaxPool2d(kernel_size=3, stride=2, padding=1, dilation=1, ceil_mode=False)\n",
       "      (layer1): Sequential(\n",
       "        (0): Bottleneck(\n",
       "          (conv1): Conv2d(64, 64, kernel_size=(1, 1), stride=(1, 1), bias=False)\n",
       "          (bn1): BatchNorm2d(64, eps=1e-05, momentum=0.1, affine=True, track_running_stats=True)\n",
       "          (conv2): Conv2d(64, 64, kernel_size=(3, 3), stride=(1, 1), padding=(1, 1), bias=False)\n",
       "          (bn2): BatchNorm2d(64, eps=1e-05, momentum=0.1, affine=True, track_running_stats=True)\n",
       "          (conv3): Conv2d(64, 256, kernel_size=(1, 1), stride=(1, 1), bias=False)\n",
       "          (bn3): BatchNorm2d(256, eps=1e-05, momentum=0.1, affine=True, track_running_stats=True)\n",
       "          (relu): ReLU(inplace=True)\n",
       "          (downsample): Sequential(\n",
       "            (0): Conv2d(64, 256, kernel_size=(1, 1), stride=(1, 1), bias=False)\n",
       "            (1): BatchNorm2d(256, eps=1e-05, momentum=0.1, affine=True, track_running_stats=True)\n",
       "          )\n",
       "        )\n",
       "        (1): Bottleneck(\n",
       "          (conv1): Conv2d(256, 64, kernel_size=(1, 1), stride=(1, 1), bias=False)\n",
       "          (bn1): BatchNorm2d(64, eps=1e-05, momentum=0.1, affine=True, track_running_stats=True)\n",
       "          (conv2): Conv2d(64, 64, kernel_size=(3, 3), stride=(1, 1), padding=(1, 1), bias=False)\n",
       "          (bn2): BatchNorm2d(64, eps=1e-05, momentum=0.1, affine=True, track_running_stats=True)\n",
       "          (conv3): Conv2d(64, 256, kernel_size=(1, 1), stride=(1, 1), bias=False)\n",
       "          (bn3): BatchNorm2d(256, eps=1e-05, momentum=0.1, affine=True, track_running_stats=True)\n",
       "          (relu): ReLU(inplace=True)\n",
       "        )\n",
       "        (2): Bottleneck(\n",
       "          (conv1): Conv2d(256, 64, kernel_size=(1, 1), stride=(1, 1), bias=False)\n",
       "          (bn1): BatchNorm2d(64, eps=1e-05, momentum=0.1, affine=True, track_running_stats=True)\n",
       "          (conv2): Conv2d(64, 64, kernel_size=(3, 3), stride=(1, 1), padding=(1, 1), bias=False)\n",
       "          (bn2): BatchNorm2d(64, eps=1e-05, momentum=0.1, affine=True, track_running_stats=True)\n",
       "          (conv3): Conv2d(64, 256, kernel_size=(1, 1), stride=(1, 1), bias=False)\n",
       "          (bn3): BatchNorm2d(256, eps=1e-05, momentum=0.1, affine=True, track_running_stats=True)\n",
       "          (relu): ReLU(inplace=True)\n",
       "        )\n",
       "      )\n",
       "      (layer2): Sequential(\n",
       "        (0): Bottleneck(\n",
       "          (conv1): Conv2d(256, 128, kernel_size=(1, 1), stride=(1, 1), bias=False)\n",
       "          (bn1): BatchNorm2d(128, eps=1e-05, momentum=0.1, affine=True, track_running_stats=True)\n",
       "          (conv2): Conv2d(128, 128, kernel_size=(3, 3), stride=(2, 2), padding=(1, 1), bias=False)\n",
       "          (bn2): BatchNorm2d(128, eps=1e-05, momentum=0.1, affine=True, track_running_stats=True)\n",
       "          (conv3): Conv2d(128, 512, kernel_size=(1, 1), stride=(1, 1), bias=False)\n",
       "          (bn3): BatchNorm2d(512, eps=1e-05, momentum=0.1, affine=True, track_running_stats=True)\n",
       "          (relu): ReLU(inplace=True)\n",
       "          (downsample): Sequential(\n",
       "            (0): Conv2d(256, 512, kernel_size=(1, 1), stride=(2, 2), bias=False)\n",
       "            (1): BatchNorm2d(512, eps=1e-05, momentum=0.1, affine=True, track_running_stats=True)\n",
       "          )\n",
       "        )\n",
       "        (1): Bottleneck(\n",
       "          (conv1): Conv2d(512, 128, kernel_size=(1, 1), stride=(1, 1), bias=False)\n",
       "          (bn1): BatchNorm2d(128, eps=1e-05, momentum=0.1, affine=True, track_running_stats=True)\n",
       "          (conv2): Conv2d(128, 128, kernel_size=(3, 3), stride=(1, 1), padding=(1, 1), bias=False)\n",
       "          (bn2): BatchNorm2d(128, eps=1e-05, momentum=0.1, affine=True, track_running_stats=True)\n",
       "          (conv3): Conv2d(128, 512, kernel_size=(1, 1), stride=(1, 1), bias=False)\n",
       "          (bn3): BatchNorm2d(512, eps=1e-05, momentum=0.1, affine=True, track_running_stats=True)\n",
       "          (relu): ReLU(inplace=True)\n",
       "        )\n",
       "        (2): Bottleneck(\n",
       "          (conv1): Conv2d(512, 128, kernel_size=(1, 1), stride=(1, 1), bias=False)\n",
       "          (bn1): BatchNorm2d(128, eps=1e-05, momentum=0.1, affine=True, track_running_stats=True)\n",
       "          (conv2): Conv2d(128, 128, kernel_size=(3, 3), stride=(1, 1), padding=(1, 1), bias=False)\n",
       "          (bn2): BatchNorm2d(128, eps=1e-05, momentum=0.1, affine=True, track_running_stats=True)\n",
       "          (conv3): Conv2d(128, 512, kernel_size=(1, 1), stride=(1, 1), bias=False)\n",
       "          (bn3): BatchNorm2d(512, eps=1e-05, momentum=0.1, affine=True, track_running_stats=True)\n",
       "          (relu): ReLU(inplace=True)\n",
       "        )\n",
       "        (3): Bottleneck(\n",
       "          (conv1): Conv2d(512, 128, kernel_size=(1, 1), stride=(1, 1), bias=False)\n",
       "          (bn1): BatchNorm2d(128, eps=1e-05, momentum=0.1, affine=True, track_running_stats=True)\n",
       "          (conv2): Conv2d(128, 128, kernel_size=(3, 3), stride=(1, 1), padding=(1, 1), bias=False)\n",
       "          (bn2): BatchNorm2d(128, eps=1e-05, momentum=0.1, affine=True, track_running_stats=True)\n",
       "          (conv3): Conv2d(128, 512, kernel_size=(1, 1), stride=(1, 1), bias=False)\n",
       "          (bn3): BatchNorm2d(512, eps=1e-05, momentum=0.1, affine=True, track_running_stats=True)\n",
       "          (relu): ReLU(inplace=True)\n",
       "        )\n",
       "      )\n",
       "      (layer3): Sequential(\n",
       "        (0): Bottleneck(\n",
       "          (conv1): Conv2d(512, 256, kernel_size=(1, 1), stride=(1, 1), bias=False)\n",
       "          (bn1): BatchNorm2d(256, eps=1e-05, momentum=0.1, affine=True, track_running_stats=True)\n",
       "          (conv2): Conv2d(256, 256, kernel_size=(3, 3), stride=(2, 2), padding=(1, 1), bias=False)\n",
       "          (bn2): BatchNorm2d(256, eps=1e-05, momentum=0.1, affine=True, track_running_stats=True)\n",
       "          (conv3): Conv2d(256, 1024, kernel_size=(1, 1), stride=(1, 1), bias=False)\n",
       "          (bn3): BatchNorm2d(1024, eps=1e-05, momentum=0.1, affine=True, track_running_stats=True)\n",
       "          (relu): ReLU(inplace=True)\n",
       "          (downsample): Sequential(\n",
       "            (0): Conv2d(512, 1024, kernel_size=(1, 1), stride=(2, 2), bias=False)\n",
       "            (1): BatchNorm2d(1024, eps=1e-05, momentum=0.1, affine=True, track_running_stats=True)\n",
       "          )\n",
       "        )\n",
       "        (1): Bottleneck(\n",
       "          (conv1): Conv2d(1024, 256, kernel_size=(1, 1), stride=(1, 1), bias=False)\n",
       "          (bn1): BatchNorm2d(256, eps=1e-05, momentum=0.1, affine=True, track_running_stats=True)\n",
       "          (conv2): Conv2d(256, 256, kernel_size=(3, 3), stride=(1, 1), padding=(1, 1), bias=False)\n",
       "          (bn2): BatchNorm2d(256, eps=1e-05, momentum=0.1, affine=True, track_running_stats=True)\n",
       "          (conv3): Conv2d(256, 1024, kernel_size=(1, 1), stride=(1, 1), bias=False)\n",
       "          (bn3): BatchNorm2d(1024, eps=1e-05, momentum=0.1, affine=True, track_running_stats=True)\n",
       "          (relu): ReLU(inplace=True)\n",
       "        )\n",
       "        (2): Bottleneck(\n",
       "          (conv1): Conv2d(1024, 256, kernel_size=(1, 1), stride=(1, 1), bias=False)\n",
       "          (bn1): BatchNorm2d(256, eps=1e-05, momentum=0.1, affine=True, track_running_stats=True)\n",
       "          (conv2): Conv2d(256, 256, kernel_size=(3, 3), stride=(1, 1), padding=(1, 1), bias=False)\n",
       "          (bn2): BatchNorm2d(256, eps=1e-05, momentum=0.1, affine=True, track_running_stats=True)\n",
       "          (conv3): Conv2d(256, 1024, kernel_size=(1, 1), stride=(1, 1), bias=False)\n",
       "          (bn3): BatchNorm2d(1024, eps=1e-05, momentum=0.1, affine=True, track_running_stats=True)\n",
       "          (relu): ReLU(inplace=True)\n",
       "        )\n",
       "        (3): Bottleneck(\n",
       "          (conv1): Conv2d(1024, 256, kernel_size=(1, 1), stride=(1, 1), bias=False)\n",
       "          (bn1): BatchNorm2d(256, eps=1e-05, momentum=0.1, affine=True, track_running_stats=True)\n",
       "          (conv2): Conv2d(256, 256, kernel_size=(3, 3), stride=(1, 1), padding=(1, 1), bias=False)\n",
       "          (bn2): BatchNorm2d(256, eps=1e-05, momentum=0.1, affine=True, track_running_stats=True)\n",
       "          (conv3): Conv2d(256, 1024, kernel_size=(1, 1), stride=(1, 1), bias=False)\n",
       "          (bn3): BatchNorm2d(1024, eps=1e-05, momentum=0.1, affine=True, track_running_stats=True)\n",
       "          (relu): ReLU(inplace=True)\n",
       "        )\n",
       "        (4): Bottleneck(\n",
       "          (conv1): Conv2d(1024, 256, kernel_size=(1, 1), stride=(1, 1), bias=False)\n",
       "          (bn1): BatchNorm2d(256, eps=1e-05, momentum=0.1, affine=True, track_running_stats=True)\n",
       "          (conv2): Conv2d(256, 256, kernel_size=(3, 3), stride=(1, 1), padding=(1, 1), bias=False)\n",
       "          (bn2): BatchNorm2d(256, eps=1e-05, momentum=0.1, affine=True, track_running_stats=True)\n",
       "          (conv3): Conv2d(256, 1024, kernel_size=(1, 1), stride=(1, 1), bias=False)\n",
       "          (bn3): BatchNorm2d(1024, eps=1e-05, momentum=0.1, affine=True, track_running_stats=True)\n",
       "          (relu): ReLU(inplace=True)\n",
       "        )\n",
       "        (5): Bottleneck(\n",
       "          (conv1): Conv2d(1024, 256, kernel_size=(1, 1), stride=(1, 1), bias=False)\n",
       "          (bn1): BatchNorm2d(256, eps=1e-05, momentum=0.1, affine=True, track_running_stats=True)\n",
       "          (conv2): Conv2d(256, 256, kernel_size=(3, 3), stride=(1, 1), padding=(1, 1), bias=False)\n",
       "          (bn2): BatchNorm2d(256, eps=1e-05, momentum=0.1, affine=True, track_running_stats=True)\n",
       "          (conv3): Conv2d(256, 1024, kernel_size=(1, 1), stride=(1, 1), bias=False)\n",
       "          (bn3): BatchNorm2d(1024, eps=1e-05, momentum=0.1, affine=True, track_running_stats=True)\n",
       "          (relu): ReLU(inplace=True)\n",
       "        )\n",
       "      )\n",
       "      (layer4): Sequential(\n",
       "        (0): Bottleneck(\n",
       "          (conv1): Conv2d(1024, 512, kernel_size=(1, 1), stride=(1, 1), bias=False)\n",
       "          (bn1): BatchNorm2d(512, eps=1e-05, momentum=0.1, affine=True, track_running_stats=True)\n",
       "          (conv2): Conv2d(512, 512, kernel_size=(3, 3), stride=(2, 2), padding=(1, 1), bias=False)\n",
       "          (bn2): BatchNorm2d(512, eps=1e-05, momentum=0.1, affine=True, track_running_stats=True)\n",
       "          (conv3): Conv2d(512, 2048, kernel_size=(1, 1), stride=(1, 1), bias=False)\n",
       "          (bn3): BatchNorm2d(2048, eps=1e-05, momentum=0.1, affine=True, track_running_stats=True)\n",
       "          (relu): ReLU(inplace=True)\n",
       "          (downsample): Sequential(\n",
       "            (0): Conv2d(1024, 2048, kernel_size=(1, 1), stride=(2, 2), bias=False)\n",
       "            (1): BatchNorm2d(2048, eps=1e-05, momentum=0.1, affine=True, track_running_stats=True)\n",
       "          )\n",
       "        )\n",
       "        (1): Bottleneck(\n",
       "          (conv1): Conv2d(2048, 512, kernel_size=(1, 1), stride=(1, 1), bias=False)\n",
       "          (bn1): BatchNorm2d(512, eps=1e-05, momentum=0.1, affine=True, track_running_stats=True)\n",
       "          (conv2): Conv2d(512, 512, kernel_size=(3, 3), stride=(1, 1), padding=(1, 1), bias=False)\n",
       "          (bn2): BatchNorm2d(512, eps=1e-05, momentum=0.1, affine=True, track_running_stats=True)\n",
       "          (conv3): Conv2d(512, 2048, kernel_size=(1, 1), stride=(1, 1), bias=False)\n",
       "          (bn3): BatchNorm2d(2048, eps=1e-05, momentum=0.1, affine=True, track_running_stats=True)\n",
       "          (relu): ReLU(inplace=True)\n",
       "        )\n",
       "        (2): Bottleneck(\n",
       "          (conv1): Conv2d(2048, 512, kernel_size=(1, 1), stride=(1, 1), bias=False)\n",
       "          (bn1): BatchNorm2d(512, eps=1e-05, momentum=0.1, affine=True, track_running_stats=True)\n",
       "          (conv2): Conv2d(512, 512, kernel_size=(3, 3), stride=(1, 1), padding=(1, 1), bias=False)\n",
       "          (bn2): BatchNorm2d(512, eps=1e-05, momentum=0.1, affine=True, track_running_stats=True)\n",
       "          (conv3): Conv2d(512, 2048, kernel_size=(1, 1), stride=(1, 1), bias=False)\n",
       "          (bn3): BatchNorm2d(2048, eps=1e-05, momentum=0.1, affine=True, track_running_stats=True)\n",
       "          (relu): ReLU(inplace=True)\n",
       "        )\n",
       "      )\n",
       "      (avgpool): AdaptiveAvgPool2d(output_size=(1, 1))\n",
       "      (fc): Linear(in_features=2048, out_features=256, bias=True)\n",
       "    )\n",
       "  )\n",
       "  (layers): Sequential(\n",
       "    (0): Linear(in_features=259, out_features=512, bias=True)\n",
       "    (1): ReLU()\n",
       "    (2): Linear(in_features=512, out_features=512, bias=True)\n",
       "    (3): ReLU()\n",
       "    (4): Linear(in_features=512, out_features=512, bias=True)\n",
       "    (5): ReLU()\n",
       "    (6): Linear(in_features=512, out_features=512, bias=True)\n",
       "    (7): ReLU()\n",
       "    (8): Linear(in_features=512, out_features=512, bias=True)\n",
       "    (9): ReLU()\n",
       "    (10): Linear(in_features=512, out_features=512, bias=True)\n",
       "    (11): ReLU()\n",
       "    (12): Linear(in_features=512, out_features=512, bias=True)\n",
       "    (13): ReLU()\n",
       "    (14): Linear(in_features=512, out_features=512, bias=True)\n",
       "    (15): ReLU()\n",
       "    (16): Linear(in_features=512, out_features=1, bias=True)\n",
       "  )\n",
       ")"
      ]
     },
     "execution_count": 4,
     "metadata": {},
     "output_type": "execute_result"
    }
   ],
   "source": [
    "#Input_size=259 (256 features + 3 positions), hidden_size=512?, output_size=1 (sdf?), num_layers=8\n",
    "network = Net(259, 512, 1, 8)\n",
    "network.to(device)"
   ]
  },
  {
   "cell_type": "markdown",
   "id": "99a5d4ca",
   "metadata": {},
   "source": [
    "## 3. Préparation des données et méthodes liées à l'entraînement\n",
    "\n",
    "###### (Lancer si besoin d'entraîner seulement)"
   ]
  },
  {
   "cell_type": "code",
   "execution_count": 5,
   "id": "c0def16e",
   "metadata": {
    "scrolled": true
   },
   "outputs": [
    {
     "name": "stdout",
     "output_type": "stream",
     "text": [
      "{'1bcec47c5dc259ea95ca4adb70946a21': 'new_sdf_dataset/1bcec47c5dc259ea95ca4adb70946a21'}\n",
      "{0: 'new_dataset/render0/img/03001627/1bcec47c5dc259ea95ca4adb70946a21', 1: 'new_dataset/render1/img/03001627/1bcec47c5dc259ea95ca4adb70946a21', 2: 'new_dataset/render2/img/03001627/1bcec47c5dc259ea95ca4adb70946a21'}\n"
     ]
    }
   ],
   "source": [
    "#Load data for training\n",
    "\n",
    "# Dictionary that maps integer value to its path value (string)\n",
    "int_labels = []\n",
    "label_dict = {}\n",
    "count = 0\n",
    "\n",
    "#Load data for images\n",
    "dataset_folder = \"new_dataset\"\n",
    "\n",
    "file_list = sorted(os.listdir(dataset_folder))\n",
    "for i, file in enumerate(file_list):\n",
    "    file_img = sorted(os.listdir(os.path.join(dataset_folder, file, \"img/03001627\"))) \n",
    "    \n",
    "    for idx, imgFile in enumerate(file_img):\n",
    "        int_labels.append(count)\n",
    "        datapath_img = os.path.join(dataset_folder, file, \"img/03001627\", imgFile)\n",
    "        label_dict[count] = datapath_img\n",
    "        count+=1\n",
    "\n",
    "#Load data for points array and their sdf value\n",
    "dataset_folder = \"new_sdf_dataset\"\n",
    "sdf_dict = {}\n",
    "\n",
    "file_list = sorted(os.listdir(dataset_folder))\n",
    "for idx, file in enumerate(file_list):\n",
    "    sdfpath_obj = os.path.join(dataset_folder, file)\n",
    "    sdf_dict[file] = sdfpath_obj\n",
    "    \n",
    "print(sdf_dict)\n",
    "print(label_dict)"
   ]
  },
  {
   "cell_type": "code",
   "execution_count": 6,
   "id": "d28d7c44",
   "metadata": {},
   "outputs": [],
   "source": [
    "#Datasets preparation - 70/30\n",
    "#train_dataset, val_dataset = random_split(int_labels, [int(len(int_labels)*0.7), int(len(int_labels)*0.3)])\n",
    "\n",
    "train_dataset = TensorDataset(torch.tensor(int_labels))\n",
    "#val_dataset = TensorDataset(torch.tensor(val_dataset))\n",
    "\n",
    "train_dataloader = DataLoader(train_dataset, shuffle=True, batch_size=60)\n",
    "#val_dataloader = DataLoader(val_dataset, shuffle=True, batch_size=40)"
   ]
  },
  {
   "cell_type": "code",
   "execution_count": 7,
   "id": "2bf64c1a",
   "metadata": {},
   "outputs": [],
   "source": [
    "#Simple functions for displaying graphs\n",
    "def my_plot(epochs, train_loss, val_loss):\n",
    "    plt.plot(epochs, train_loss, val_loss)\n",
    "    \n",
    "def my_plot(epochs, train_loss):\n",
    "    plt.plot(epochs, train_loss)"
   ]
  },
  {
   "cell_type": "code",
   "execution_count": 8,
   "id": "f85b1d25",
   "metadata": {},
   "outputs": [],
   "source": [
    "# Define optimizer\n",
    "optimizer = torch.optim.Adam(network.parameters())"
   ]
  },
  {
   "cell_type": "code",
   "execution_count": 9,
   "id": "82c66e46",
   "metadata": {},
   "outputs": [],
   "source": [
    "def laplace_regularizer_const(mesh_verts, mesh_faces):\n",
    "    term = torch.zeros_like(mesh_verts)\n",
    "    norm = torch.zeros_like(mesh_verts[..., 0:1])\n",
    "\n",
    "    v0 = mesh_verts[mesh_faces[:, 0], :]\n",
    "    v1 = mesh_verts[mesh_faces[:, 1], :]\n",
    "    v2 = mesh_verts[mesh_faces[:, 2], :]\n",
    "\n",
    "    term.scatter_add_(0, mesh_faces[:, 0:1].repeat(1,3), (v1 - v0) + (v2 - v0))\n",
    "    term.scatter_add_(0, mesh_faces[:, 1:2].repeat(1,3), (v0 - v1) + (v2 - v1))\n",
    "    term.scatter_add_(0, mesh_faces[:, 2:3].repeat(1,3), (v0 - v2) + (v1 - v2))\n",
    "\n",
    "    two = torch.ones_like(v0) * 2.0\n",
    "    norm.scatter_add_(0, mesh_faces[:, 0:1], two)\n",
    "    norm.scatter_add_(0, mesh_faces[:, 1:2], two)\n",
    "    norm.scatter_add_(0, mesh_faces[:, 2:3], two)\n",
    "\n",
    "    term = term / torch.clamp(norm, min=1.0)\n",
    "\n",
    "    return torch.mean(term**2)\n",
    "\n",
    "def loss_f(mesh_verts, mesh_faces, points, it):\n",
    "    laplacian_weight = 0.1\n",
    "    print(\"shape loss\")\n",
    "    print(mesh_verts.unsqueeze(0).shape)\n",
    "    print(points.shape)\n",
    "    pred_points = kaolin.ops.mesh.sample_points(mesh_verts.unsqueeze(0), mesh_faces, 50000)[0][0]\n",
    "    chamfer = kaolin.metrics.pointcloud.chamfer_distance(pred_points.unsqueeze(0), points).mean()\n",
    "    '''\n",
    "    if it > iterations//2:\n",
    "        lap = laplace_regularizer_const(mesh_verts, mesh_faces)\n",
    "        return chamfer + lap * laplacian_weight\n",
    "    '''\n",
    "    return chamfer"
   ]
  },
  {
   "cell_type": "code",
   "execution_count": 17,
   "id": "c304b20c",
   "metadata": {},
   "outputs": [
    {
     "name": "stdout",
     "output_type": "stream",
     "text": [
      "torch.Size([1, 11873, 3])\n"
     ]
    }
   ],
   "source": [
    "GT_mesh = mesh_points = kaolin.io.usd.import_pointclouds('./new_sdf_/GT_model.usd')[0].points.to(device)\n",
    "mesh_points = GT_mesh.vertices.cuda().unsqueeze(0)\n",
    "mesh_points.requires_grad = True\n",
    "print(mesh_points.shape)"
   ]
  },
  {
   "cell_type": "code",
   "execution_count": 16,
   "id": "936ae118",
   "metadata": {},
   "outputs": [],
   "source": [
    "#Training loop\n",
    "def training(network, num_epochs, data_train):\n",
    "    train_loss = []\n",
    "    grid_res = 128\n",
    "    tets = torch.tensor(([np.load('samples/{}_tets_{}.npz'.format(grid_res, i))['data'] for i in range(4)]), dtype=torch.long, device='cuda').permute(1,0)\n",
    "\n",
    "    for epoch in range(1, num_epochs+1):\n",
    "        for phase in ['train']:\n",
    "            if phase == 'train':\n",
    "                train_epoch_loss = []\n",
    "                train_epoch_acc = []\n",
    "\n",
    "                network.train()\n",
    "                data_t = next(iter(data_train))\n",
    "                with tqdm.trange(len(data_t[0]), unit=\"subfile\", mininterval=0) as bar:\n",
    "                    bar.set_description(f\"Epoch {epoch} / {num_epochs} - Training\")\n",
    "                    for i in bar:\n",
    "                        # Get obj id from this path\n",
    "                        subdirect = data_t[0][i]\n",
    "                        path = label_dict[int(subdirect.item())]\n",
    "                        #obj_id = path.split(\"/\")[-1]\n",
    "                        obj_id = path.split(\"\\\\\")[3]\n",
    "\n",
    "                        #print(\"Accès au dossier \", path)\n",
    "\n",
    "                        # Load each image for this subdirectory\n",
    "                        list_image = []\n",
    "                        for idx, file in enumerate(os.listdir(path)):\n",
    "                            if (file.endswith('.png')):\n",
    "                                image = Image.open(os.path.join(path, file))\n",
    "                                data = asarray(image)\n",
    "                                data = data[:, :, 3]\n",
    "                                list_image.append(data)\n",
    "\n",
    "                        # Create a numpy tensor for each image\n",
    "                        image_1 = torch.tensor(list_image[0], device='cuda')\n",
    "                        image_2 = torch.tensor(list_image[1], device='cuda')\n",
    "                        image_3 = torch.tensor(list_image[2], device='cuda')\n",
    "                        image_4 = torch.tensor(list_image[3], device='cuda')\n",
    "                        image_5 = torch.tensor(list_image[4], device='cuda')\n",
    "                        image_6 = torch.tensor(list_image[5], device='cuda')\n",
    "\n",
    "                        # Then concatenate these tensor in one torch.tensor\n",
    "                        input_image = torch.stack((image_1, image_2, image_3, image_4, image_5, image_6), 0).float() # concatenate these 6 image so we will have a tensor with shape (1,im_height,im_width,6)\n",
    "                        input_image = input_image.unsqueeze(0)\n",
    "                        input_image.to(device)\n",
    "                        input_image.cuda()\n",
    "\n",
    "                        # Latent vector prediction for these 6 images (len 256)\n",
    "                        #vect_image = encoder(input_image)\n",
    "\n",
    "                        # Get pos and sdf path for this obj\n",
    "                        sdf_obj_path = sdf_dict[obj_id] # maybe we can create a dictionnary (obj_id => sdf_path) insted of list in \"all_sdfpath_obj\"...\n",
    "\n",
    "                        # Get the dict or correspondance list for each point and his sdf value\n",
    "                        points = np.load(os.path.join(sdf_obj_path, 'pos.npy')) #each point is a array [x,y,z] which represent coordonnées\n",
    "                        sdf = np.load(os.path.join(sdf_obj_path, 'sdf.npy'))\n",
    "\n",
    "                        # Predict the sdf of each point\n",
    "                        points = torch.tensor(points).to(float).to(device)\n",
    "                        sdf = torch.tensor(sdf).to(float).to(device)\n",
    "                        #print(points.shape)\n",
    "                        #print(sdf.shape)\n",
    "                        points_ds = TensorDataset(points, sdf)\n",
    "                        points_dl = DataLoader(points_ds, shuffle=False, batch_size=1000)\n",
    "                        count = 0\n",
    "                        list_predicted_sdf = []\n",
    "                        total_loss = 0\n",
    "                        \n",
    "                        for pts, real_sdf in points_dl:\n",
    "                            predicted_sdf = network(input_image, pts)\n",
    "                            \n",
    "                            predicted_sdf = predicted_sdf[...,0]\n",
    "                            list_predicted_sdf.append(predicted_sdf)\n",
    "                            \n",
    "                            #print(predicted_sdf.shape)\n",
    "                            #print()\n",
    "                            #print(predicted_sdf)\n",
    "                            \n",
    "                            # Calcul loss and accuracy\n",
    "                            loss = l1_loss((100*predicted_sdf), (100*real_sdf)) # pred_sdf - real_sdf for example\n",
    "                            total_loss += loss\n",
    "                            \n",
    "                            # Calcul gradiant\n",
    "                            loss.backward()\n",
    "                            count +=1\n",
    "                            \n",
    "                            if (count % 100 == 0):\n",
    "                                print(\"loss ;: \", loss)\n",
    "                                \n",
    "                            optimizer.step()\n",
    "                            optimizer.zero_grad()\n",
    "                        \n",
    "                        tet_verts = points.float()\n",
    "                        tet_verts = tet_verts.unsqueeze(0)\n",
    "                        #print(tet_verts.shape)\n",
    "                        #print(tet_verts.type)\n",
    "                        print()\n",
    "                        \n",
    "                        #sdf = torch.cat(for i in list_predicted_sdf)\n",
    "                        #print(sdf.shape)\n",
    "                        #print()\n",
    "                        \n",
    "                        list_predicted_sdf = torch.cat(list_predicted_sdf)\n",
    "                        #sdf = torch.tensor(sdf, dtype=torch.float, device='cuda')\n",
    "                        sdf_pred = list_predicted_sdf.cuda()\n",
    "                        sdf_pred = sdf.unsqueeze(0)\n",
    "                        #print(sdf.shape)\n",
    "                        \n",
    "                        if(epoch>1):\n",
    "                            verts_list, faces_list = marching_tetrahedra(tet_verts, tets, sdf_pred, False)\n",
    "                            stage = export_mesh('./pred_model_'+ str(epoch)+ str(i)+'.usd', vertices=verts_list[0], faces=faces_list[0])\n",
    "                        '''\n",
    "                        mesh_verts, mesh_faces = verts_list[0], faces_list[0]\n",
    "                        mesh_verts.require_grad = True\n",
    "                        #print(mesh_verts)\n",
    "                        loss = loss_f(mesh_verts.float(), mesh_faces, mesh_points.float(), epoch)\n",
    "                        loss.backward()\n",
    "                        optimizer.step()\n",
    "                        optimizer.zero_grad()\n",
    "                        print()\n",
    "                        '''\n",
    "                    #train_loss.append(sum(train_epoch_loss)/len(train_epoch_loss))\n",
    "                    #bar.set_postfix(loss=float(sum(train_epoch_loss)/len(train_epoch_loss)), acc=f\"{float(sum(train_epoch_acc)/len(train_epoch_acc))*100:.2f}%\")\n",
    "            \n",
    "    return train_loss"
   ]
  },
  {
   "cell_type": "code",
   "execution_count": 14,
   "id": "65a400f3",
   "metadata": {},
   "outputs": [
    {
     "name": "stderr",
     "output_type": "stream",
     "text": [
      "Epoch 1 / 3 - Training:   0%|          | 0/3 [00:00<?, ?subfile/s]"
     ]
    },
    {
     "name": "stdout",
     "output_type": "stream",
     "text": [
      "loss ;:  tensor(10.8964, device='cuda:0', dtype=torch.float64, grad_fn=<L1LossBackward>)\n",
      "loss ;:  tensor(10.7373, device='cuda:0', dtype=torch.float64, grad_fn=<L1LossBackward>)\n"
     ]
    },
    {
     "name": "stderr",
     "output_type": "stream",
     "text": [
      "\r",
      "Epoch 1 / 3 - Training:  33%|███▎      | 1/3 [00:35<01:10, 35.31s/subfile]"
     ]
    },
    {
     "name": "stdout",
     "output_type": "stream",
     "text": [
      "\n",
      "loss ;:  tensor(10.9863, device='cuda:0', dtype=torch.float64, grad_fn=<L1LossBackward>)\n",
      "loss ;:  tensor(10.7462, device='cuda:0', dtype=torch.float64, grad_fn=<L1LossBackward>)\n"
     ]
    },
    {
     "name": "stderr",
     "output_type": "stream",
     "text": [
      "\r",
      "Epoch 1 / 3 - Training:  67%|██████▋   | 2/3 [01:10<00:35, 35.14s/subfile]"
     ]
    },
    {
     "name": "stdout",
     "output_type": "stream",
     "text": [
      "\n",
      "loss ;:  tensor(10.9975, device='cuda:0', dtype=torch.float64, grad_fn=<L1LossBackward>)\n",
      "loss ;:  tensor(10.7454, device='cuda:0', dtype=torch.float64, grad_fn=<L1LossBackward>)\n"
     ]
    },
    {
     "name": "stderr",
     "output_type": "stream",
     "text": [
      "Epoch 1 / 3 - Training: 100%|██████████| 3/3 [01:45<00:00, 35.14s/subfile]\n"
     ]
    },
    {
     "name": "stdout",
     "output_type": "stream",
     "text": [
      "\n"
     ]
    },
    {
     "name": "stderr",
     "output_type": "stream",
     "text": [
      "Epoch 2 / 3 - Training:   0%|          | 0/3 [00:00<?, ?subfile/s]"
     ]
    },
    {
     "name": "stdout",
     "output_type": "stream",
     "text": [
      "loss ;:  tensor(10.9866, device='cuda:0', dtype=torch.float64, grad_fn=<L1LossBackward>)\n",
      "loss ;:  tensor(10.7433, device='cuda:0', dtype=torch.float64, grad_fn=<L1LossBackward>)\n"
     ]
    },
    {
     "name": "stderr",
     "output_type": "stream",
     "text": [
      "\r",
      "Epoch 2 / 3 - Training:  33%|███▎      | 1/3 [00:35<01:10, 35.29s/subfile]"
     ]
    },
    {
     "name": "stdout",
     "output_type": "stream",
     "text": [
      "\n",
      "loss ;:  tensor(11.0136, device='cuda:0', dtype=torch.float64, grad_fn=<L1LossBackward>)\n",
      "loss ;:  tensor(10.7359, device='cuda:0', dtype=torch.float64, grad_fn=<L1LossBackward>)\n"
     ]
    },
    {
     "name": "stderr",
     "output_type": "stream",
     "text": [
      "\r",
      "Epoch 2 / 3 - Training:  67%|██████▋   | 2/3 [01:10<00:35, 35.25s/subfile]"
     ]
    },
    {
     "name": "stdout",
     "output_type": "stream",
     "text": [
      "\n",
      "loss ;:  tensor(10.9993, device='cuda:0', dtype=torch.float64, grad_fn=<L1LossBackward>)\n",
      "loss ;:  tensor(10.7404, device='cuda:0', dtype=torch.float64, grad_fn=<L1LossBackward>)\n"
     ]
    },
    {
     "name": "stderr",
     "output_type": "stream",
     "text": [
      "Epoch 2 / 3 - Training: 100%|██████████| 3/3 [01:47<00:00, 35.88s/subfile]\n"
     ]
    },
    {
     "name": "stdout",
     "output_type": "stream",
     "text": [
      "\n"
     ]
    },
    {
     "name": "stderr",
     "output_type": "stream",
     "text": [
      "Epoch 3 / 3 - Training:   0%|          | 0/3 [00:00<?, ?subfile/s]"
     ]
    },
    {
     "name": "stdout",
     "output_type": "stream",
     "text": [
      "loss ;:  tensor(10.9912, device='cuda:0', dtype=torch.float64, grad_fn=<L1LossBackward>)\n",
      "loss ;:  tensor(10.7294, device='cuda:0', dtype=torch.float64, grad_fn=<L1LossBackward>)\n"
     ]
    },
    {
     "name": "stderr",
     "output_type": "stream",
     "text": [
      "\r",
      "Epoch 3 / 3 - Training:  33%|███▎      | 1/3 [00:37<01:14, 37.19s/subfile]"
     ]
    },
    {
     "name": "stdout",
     "output_type": "stream",
     "text": [
      "\n",
      "loss ;:  tensor(11.0216, device='cuda:0', dtype=torch.float64, grad_fn=<L1LossBackward>)\n",
      "loss ;:  tensor(10.7011, device='cuda:0', dtype=torch.float64, grad_fn=<L1LossBackward>)\n"
     ]
    },
    {
     "name": "stderr",
     "output_type": "stream",
     "text": [
      "\r",
      "Epoch 3 / 3 - Training:  67%|██████▋   | 2/3 [01:14<00:37, 37.53s/subfile]"
     ]
    },
    {
     "name": "stdout",
     "output_type": "stream",
     "text": [
      "\n",
      "loss ;:  tensor(10.9757, device='cuda:0', dtype=torch.float64, grad_fn=<L1LossBackward>)\n",
      "loss ;:  tensor(10.7410, device='cuda:0', dtype=torch.float64, grad_fn=<L1LossBackward>)\n"
     ]
    },
    {
     "name": "stderr",
     "output_type": "stream",
     "text": [
      "Epoch 3 / 3 - Training: 100%|██████████| 3/3 [01:51<00:00, 37.30s/subfile]"
     ]
    },
    {
     "name": "stdout",
     "output_type": "stream",
     "text": [
      "\n"
     ]
    },
    {
     "name": "stderr",
     "output_type": "stream",
     "text": [
      "\n"
     ]
    }
   ],
   "source": [
    "train_loss = training(network, 3, train_dataloader)"
   ]
  },
  {
   "cell_type": "markdown",
   "id": "9d411ad6",
   "metadata": {},
   "source": [
    "###### (Lancer seulement si besoin de sauvegarder le modèle - Décommenter / Faire attention à ne pas écraser un modèle déjà existant : )"
   ]
  },
  {
   "cell_type": "code",
   "execution_count": null,
   "id": "fa9effc0",
   "metadata": {},
   "outputs": [],
   "source": [
    "import pandas\n",
    "from sklearn import model_selection\n",
    "from sklearn.linear_model import LogisticRegression\n",
    "import pickle\n",
    "\n",
    "#filename = 'finalized_model.sav'\n",
    "pickle.dump(decoder, open(filename, 'wb'))"
   ]
  },
  {
   "cell_type": "markdown",
   "id": "5f1efe2d",
   "metadata": {},
   "source": [
    "## 4. Affichage des données"
   ]
  },
  {
   "cell_type": "code",
   "execution_count": 13,
   "id": "77226cd9",
   "metadata": {},
   "outputs": [
    {
     "data": {
      "image/png": "[encoded data removed]",
      "text/plain": [
       "<Figure size 640x480 with 1 Axes>"
      ]
     },
     "metadata": {},
     "output_type": "display_data"
    }
   ],
   "source": [
    "my_plot(np.linspace(1, 30, 30).astype(int), train_loss)"
   ]
  },
  {
   "cell_type": "markdown",
   "id": "472a5141",
   "metadata": {},
   "source": [
    "## 5. Prédiction de données à partir de l'encodeur et d'un décodeur entraîné"
   ]
  },
  {
   "cell_type": "code",
   "execution_count": 1,
   "id": "9c4043a3",
   "metadata": {},
   "outputs": [],
   "source": [
    "def predict(encoder, decoder, data):\n",
    "    data_t = next(iter(data))\n",
    "    sdf_predict = []\n",
    "    with tqdm.trange(len(data_t[0]), unit=\"subfile\", mininterval=0) as bar:\n",
    "        bar.set_description(f\"Prédiction du modèle\")\n",
    "        for i in bar:\n",
    "            # Get obj id from this path\n",
    "            subdirect = data_t[0][i]\n",
    "            path = label_dict[int(subdirect.item())]\n",
    "            obj_id = path.split(\"\\\\\")[3]\n",
    "\n",
    "            print(\"Accès au dossier \", path)\n",
    "\n",
    "            # Load each image for this subdirectory\n",
    "            list_image = []\n",
    "            for idx, file in enumerate(os.listdir(path)):\n",
    "                if (file.endswith('.png')):\n",
    "                    image = Image.open(os.path.join(path, file))\n",
    "                    data = asarray(image)\n",
    "                    data = data[:, :, 3]\n",
    "                    list_image.append(data)\n",
    "\n",
    "            # Create a numpy tensor for each image\n",
    "            image_1 = torch.tensor(list_image[0], device='cuda')\n",
    "            image_2 = torch.tensor(list_image[1], device='cuda')\n",
    "            image_3 = torch.tensor(list_image[2], device='cuda')\n",
    "            image_4 = torch.tensor(list_image[3], device='cuda')\n",
    "            image_5 = torch.tensor(list_image[4], device='cuda')\n",
    "            image_6 = torch.tensor(list_image[5], device='cuda')\n",
    "\n",
    "            # Then concatenate these tensor in one torch.tensor\n",
    "            input_image = torch.stack((image_1, image_2, image_3, image_4, image_5, image_6), 0).float() # concatenate these 6 image so we will have a tensor with shape (1,im_height,im_width,6)\n",
    "            input_image = input_image.unsqueeze(0)\n",
    "            input_image.to(device)\n",
    "            input_image.cuda()\n",
    "\n",
    "            # Latent vector prediction for these 6 images (len 256)\n",
    "            vect_image = encoder(input_image)\n",
    "\n",
    "            # Get pos and sdf path for this obj\n",
    "            sdf_obj_path = sdf_dict[obj_id] # maybe we can create a dictionnary (obj_id => sdf_path) insted of list in \"all_sdfpath_obj\"...\n",
    "\n",
    "            # Get the dict or correspondance list for each point and his sdf value\n",
    "            points = np.load(os.path.join(sdf_obj_path, 'pos.npy')) #each point is a array [x,y,z] which represent coordonnées\n",
    "            sdf = np.load(os.path.join(sdf_obj_path, 'sdf.npy'))\n",
    "            \n",
    "            list_vect_latent = []\n",
    "            \n",
    "            # Predict the sdf of each point\n",
    "            for id in range(0, len(sdf)):\n",
    "                p = points[id]\n",
    "                p = torch.tensor(p, device='cuda')\n",
    "                p = p.unsqueeze(0)\n",
    "\n",
    "                #print(\"Lecture du point \", sdf_obj_path)\n",
    "\n",
    "                # Construct the global latent vector\n",
    "                vect_latent = torch.cat((vect_image,p), 1) #concatenate -> len 259\n",
    "                vect_latent = vect_latent.squeeze()\n",
    "                vect_latent.to(device)\n",
    "                vect_latent.cuda()\n",
    "\n",
    "                list_vect_latent.append(vect_latent)\n",
    "\n",
    "            stack_vect = torch.stack(list_vect_latent)\n",
    "            print(\"Stack_vect :\", stack_vect.shape)\n",
    "            nb_loops = 277410//200\n",
    "            predicted_sdf_list = []\n",
    "            \n",
    "            for i in range(0, nb_loops):\n",
    "                low_threshold = 200*i\n",
    "                upper_threshold = 200*(i+1)\n",
    "                tmp_vect = stack_vect[low_threshold :upper_threshold, :]\n",
    "                \n",
    "                predicted_sdf = decoder(tmp_vect)\n",
    "                \n",
    "                predicted_sdf_list.append(predicted_sdf)\n",
    "            \n",
    "            low_threshold = 277410 - (277410%200)\n",
    "            tmp_vect = stack_vect[low_threshold :277410, :]\n",
    "            predicted_sdf = decoder(tmp_vect)\n",
    "            predicted_sdf_list.append(predicted_sdf)\n",
    "            \n",
    "            all_predicted_sdf = torch.cat(predicted_sdf_list, dim=0)\n",
    "            print(all_predicted_sdf.shape)\n",
    "            \n",
    "    return all_predicted_sdf"
   ]
  },
  {
   "cell_type": "markdown",
   "id": "4aa90608",
   "metadata": {},
   "source": [
    "###### (Lancer seulement si besoin de charger un modèle du décodeur : )"
   ]
  },
  {
   "cell_type": "code",
   "execution_count": 5,
   "id": "2e2f2aab",
   "metadata": {},
   "outputs": [
    {
     "name": "stdout",
     "output_type": "stream",
     "text": [
      "FFNN(\n",
      "  (layers): Sequential(\n",
      "    (0): Linear(in_features=259, out_features=512, bias=True)\n",
      "    (1): ReLU()\n",
      "    (2): Linear(in_features=512, out_features=512, bias=True)\n",
      "    (3): ReLU()\n",
      "    (4): Linear(in_features=512, out_features=512, bias=True)\n",
      "    (5): ReLU()\n",
      "    (6): Linear(in_features=512, out_features=512, bias=True)\n",
      "    (7): ReLU()\n",
      "    (8): Linear(in_features=512, out_features=512, bias=True)\n",
      "    (9): ReLU()\n",
      "    (10): Linear(in_features=512, out_features=512, bias=True)\n",
      "    (11): ReLU()\n",
      "    (12): Linear(in_features=512, out_features=512, bias=True)\n",
      "    (13): ReLU()\n",
      "    (14): Linear(in_features=512, out_features=512, bias=True)\n",
      "    (15): ReLU()\n",
      "    (16): Linear(in_features=512, out_features=1, bias=True)\n",
      "  )\n",
      ")\n"
     ]
    }
   ],
   "source": [
    "import pandas\n",
    "from sklearn import model_selection\n",
    "from sklearn.linear_model import LogisticRegression\n",
    "import pickle\n",
    "\n",
    "# load the model from disk\n",
    "filename = 'finalized_model.sav'\n",
    "decoder = pickle.load(open(filename, 'rb'))\n",
    "print(decoder)"
   ]
  },
  {
   "cell_type": "code",
   "execution_count": 6,
   "id": "1830b918",
   "metadata": {},
   "outputs": [],
   "source": [
    "#Load data for predicting\n",
    "\n",
    "# Dictionary that maps integer value to its path value (string)\n",
    "int_labels = []\n",
    "label_dict = {}\n",
    "count = 0\n",
    "\n",
    "#Load data for images\n",
    "dataset_folder = \"predict\"\n",
    "\n",
    "file_list = sorted(os.listdir(dataset_folder))\n",
    "for i, file in enumerate(file_list):\n",
    "    file_img = sorted(os.listdir(os.path.join(dataset_folder, file, \"img/03001627\"))) \n",
    "    \n",
    "    for idx, imgFile in enumerate(file_img):\n",
    "        int_labels.append(count)\n",
    "        datapath_img = os.path.join(dataset_folder, file, \"img/03001627\", imgFile)\n",
    "        label_dict[count] = datapath_img\n",
    "        count+=1\n",
    "\n",
    "#Load data for points array and their sdf value\n",
    "dataset_folder = \"sdf_predict\"\n",
    "sdf_dict = {}\n",
    "\n",
    "file_list = sorted(os.listdir(dataset_folder))\n",
    "for idx, file in enumerate(file_list):\n",
    "    sdfpath_obj = os.path.join(dataset_folder, file)\n",
    "    sdf_dict[file] = sdfpath_obj"
   ]
  },
  {
   "cell_type": "code",
   "execution_count": 7,
   "id": "9d7b4722",
   "metadata": {},
   "outputs": [],
   "source": [
    "#Dataset preparation\n",
    "dataset = TensorDataset(torch.tensor(int_labels))\n",
    "dataloader = DataLoader(dataset, shuffle=True, batch_size=1)"
   ]
  },
  {
   "cell_type": "code",
   "execution_count": 8,
   "id": "7ce6b07b",
   "metadata": {},
   "outputs": [
    {
     "name": "stderr",
     "output_type": "stream",
     "text": [
      "Prédiction du modèle:   0%|                                                                 | 0/1 [00:00<?, ?subfile/s]"
     ]
    },
    {
     "name": "stdout",
     "output_type": "stream",
     "text": [
      "Accès au dossier  predict\\render0\\img/03001627\\1be38f2624022098f71e06115e9c3b3e\n",
      "Stack_vect : torch.Size([277410, 259])\n"
     ]
    },
    {
     "name": "stderr",
     "output_type": "stream",
     "text": [
      "Prédiction du modèle: 100%|█████████████████████████████████████████████████████████| 1/1 [00:56<00:00, 56.41s/subfile]"
     ]
    },
    {
     "name": "stdout",
     "output_type": "stream",
     "text": [
      "277400\n",
      "torch.Size([277410, 1])\n"
     ]
    },
    {
     "name": "stderr",
     "output_type": "stream",
     "text": [
      "\n"
     ]
    }
   ],
   "source": [
    "sdf = predict(encoder, decoder, dataloader)\n",
    "sdf = sdf[...,0].unsqueeze(0)\n",
    "print(\"SDF final :\", sdf.shape)\n",
    "\n",
    "sdf = sdf.numpy()\n",
    "#save('/sdf_predict/sdf.npy', sdf)"
   ]
  },
  {
   "cell_type": "markdown",
   "id": "6798b39a",
   "metadata": {},
   "source": [
    "## 6. Reconstruction d'un modèle 3D à partir de valeurs de SDF prédites"
   ]
  },
  {
   "cell_type": "markdown",
   "id": "bbd73e30",
   "metadata": {},
   "source": [
    "###### (Lancer seulement si besoin de charger un fichier de valeur SDF - changer le nom du fichier à charger : )"
   ]
  },
  {
   "cell_type": "code",
   "execution_count": 24,
   "id": "15392929",
   "metadata": {},
   "outputs": [
    {
     "name": "stdout",
     "output_type": "stream",
     "text": [
      "[0.7324503  0.72935754 0.71682054 0.73338735 0.7207073  0.7202037\n",
      " 0.71025324 0.7186455  0.71252084 0.70285153 0.7030958  0.7040121\n",
      " 0.6896396  0.69207627 0.6857143  0.67638373 0.6762767  0.67758965\n",
      " 0.4920022  0.48254684]\n",
      "torch.Size([1, 277410])\n"
     ]
    }
   ],
   "source": [
    "sdf = np.load('sdf_dataset_old/1bcec47c5dc259ea95ca4adb70946a21/sdf.npy')\n",
    "print(sdf[:20])\n",
    "\n",
    "sdf = torch.tensor(sdf, dtype=torch.float, device='cuda')\n",
    "sdf = sdf.unsqueeze(0)\n",
    "\n",
    "print(sdf.shape)"
   ]
  },
  {
   "cell_type": "code",
   "execution_count": 25,
   "id": "06bf3e72",
   "metadata": {},
   "outputs": [
    {
     "name": "stdout",
     "output_type": "stream",
     "text": [
      "Tet_verts :  torch.Size([1, 277410, 3])\n",
      "Tets :  torch.Size([1524684, 4])\n",
      "SDF :  torch.Size([1, 277410])\n",
      "Vertices mesh  torch.Size([11873, 3])\n",
      "Faces mesh :  torch.Size([23702, 3])\n"
     ]
    }
   ],
   "source": [
    "#Using MarchingTetrahedra to get the mesh\n",
    "grid_res = 128\n",
    "tet_verts = torch.tensor(np.load('samples/{}_verts.npz'.format(grid_res))['data'], dtype=torch.float, device='cuda')\n",
    "tets = torch.tensor(([np.load('samples/{}_tets_{}.npz'.format(grid_res, i))['data'] for i in range(4)]), dtype=torch.long, device='cuda').permute(1,0)\n",
    "\n",
    "tet_verts = tet_verts.to(float)\n",
    "#y_values = tet_verts[..., 1]\n",
    "#z_values = tet_verts[..., 2]\n",
    "#tet_verts[...,1] = z_values\n",
    "#tet_verts[...,2] = y_values\n",
    "tet_verts = tet_verts.unsqueeze(0)\n",
    "\n",
    "print(\"Tet_verts : \", tet_verts.shape)\n",
    "print(\"Tets : \", tets.shape)\n",
    "print(\"SDF : \", sdf.shape)\n",
    "\n",
    "verts_list, faces_list = marching_tetrahedra(tet_verts, tets, sdf, False)\n",
    "print(\"Vertices mesh \", verts_list[0].shape)\n",
    "print(\"Faces mesh : \", faces_list[0].shape)"
   ]
  },
  {
   "cell_type": "code",
   "execution_count": 26,
   "id": "2c844768",
   "metadata": {},
   "outputs": [],
   "source": [
    "#Save mesh to .usd file\n",
    "from kaolin.io.usd import export_mesh\n",
    "stage = export_mesh('./GT_model_1.usd', vertices=verts_list[0], faces=faces_list[0])"
   ]
  },
  {
   "cell_type": "markdown",
   "id": "e6ce6e27",
   "metadata": {},
   "source": [
    "# ANNEXES"
   ]
  },
  {
   "cell_type": "markdown",
   "id": "659281e7",
   "metadata": {},
   "source": [
    "## 1. Librairie mesh_to_sdf permettant de calculer des valeurs de sdf à partir d'un modèle et d'une liste de points\n",
    "\n",
    "###### (Lancer seulement si besoin de calculer des valeurs réelles de sdf pour un modèle en .obj : )"
   ]
  },
  {
   "cell_type": "code",
   "execution_count": 3,
   "id": "ba73b9a8",
   "metadata": {},
   "outputs": [
    {
     "name": "stdout",
     "output_type": "stream",
     "text": [
      "Device :  cpu\n",
      "277410\n"
     ]
    }
   ],
   "source": [
    "import mesh_to_sdf\n",
    "import trimesh\n",
    "import pyrender\n",
    "import numpy as np\n",
    "import argparse, sys, os\n",
    "from numpy import asarray\n",
    "from numpy import save\n",
    "\n",
    "device = torch.device('cuda' if torch.cuda.is_available() else 'cpu')\n",
    "print(\"Device : \", device)\n",
    "\n",
    "grid_res = 128\n",
    "tet_verts = torch.tensor(np.load('samples/{}_verts.npz'.format(grid_res))['data'], dtype=torch.float, device=device)\n",
    "\n",
    "mesh = trimesh.load('models/03001627/ff2223a085d32243696b74614952b2d0/model.obj')\n",
    "\n",
    "tet_verts = tet_verts.numpy()\n",
    "sdf = mesh_to_sdf.mesh_to_sdf(mesh, tet_verts, surface_point_method='scan', sign_method='normal', bounding_radius=None, scan_count=100, scan_resolution=400, sample_point_count=10000000, normal_sample_count=11)\n",
    "\n",
    "print(len(sdf))\n",
    "save('sdf_model7.npy', sdf)"
   ]
  },
  {
   "cell_type": "code",
   "execution_count": 5,
   "id": "014d486b",
   "metadata": {},
   "outputs": [
    {
     "name": "stdout",
     "output_type": "stream",
     "text": [
      "[[ 0.5     0.5     0.4844]\n",
      " [ 0.4844  0.5     0.4922]\n",
      " [ 0.4922  0.4844  0.4844]\n",
      " [ 0.5     0.4922  0.5   ]\n",
      " [ 0.4844  0.4844  0.5   ]\n",
      " [ 0.5     0.4844  0.4844]\n",
      " [ 0.4766  0.4844  0.4844]\n",
      " [ 0.4688  0.4922  0.5   ]\n",
      " [ 0.4688  0.5     0.4844]\n",
      " [ 0.4531  0.5     0.4922]\n",
      " [ 0.461   0.4844  0.4844]\n",
      " [ 0.4531  0.4844  0.5   ]\n",
      " [ 0.4453  0.4844  0.4844]\n",
      " [ 0.4375  0.4922  0.5   ]\n",
      " [ 0.4375  0.5     0.4844]\n",
      " [ 0.4219  0.5     0.4922]\n",
      " [ 0.4297  0.4844  0.4844]\n",
      " [ 0.4219  0.4844  0.5   ]\n",
      " [-0.5    -0.4766 -0.5   ]\n",
      " [-0.5    -0.4844 -0.4844]]\n",
      "(277410, 3)\n"
     ]
    }
   ],
   "source": [
    "from numpy import save\n",
    "grid_res = 128\n",
    "points = np.load('samples/{}_verts.npz'.format(grid_res))['data']\n",
    "print(points[:20])\n",
    "\n",
    "print(points.shape)\n",
    "save('pos.npy', points)"
   ]
  }
 ],
 "metadata": {
  "kernelspec": {
   "display_name": "Python 3 (ipykernel)",
   "language": "python",
   "name": "python3"
  },
  "language_info": {
   "codemirror_mode": {
    "name": "ipython",
    "version": 3
   },
   "file_extension": ".py",
   "mimetype": "text/x-python",
   "name": "python",
   "nbconvert_exporter": "python",
   "pygments_lexer": "ipython3",
   "version": "3.9.13"
  }
 },
 "nbformat": 4,
 "nbformat_minor": 5
}
